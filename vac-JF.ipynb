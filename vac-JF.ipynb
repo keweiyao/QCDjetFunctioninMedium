{
 "cells": [
  {
   "cell_type": "code",
   "execution_count": 1,
   "id": "f15888c7",
   "metadata": {},
   "outputs": [
    {
     "data": {
      "text/plain": [
       "'\\nMc = 1.3\\nMb = 4.2\\nMz = 91.7\\n\\nb0_q = 2./(11.-2./3.*3);\\nb0_c = 2./(11.-2./3.*4);\\nb0_b = 2./(11.-2./3.*5);\\nalphas_Mz_bar = 0.118 / 2. / np.pi;\\nLambda2_b = Mz**2/np.exp(b0_b/alphas_Mz_bar);\\na5_Mb_bar = b0_b/np.log((2*Mb)**2/Lambda2_b);\\nLambda2_c = (2*Mb)**2/np.exp(b0_c/a5_Mb_bar);\\na4_Mc_bar = b0_c/np.log((2*Mc)**2/Lambda2_c);\\nLambda2_q = (2*Mc)**2/np.exp(b0_q/a4_Mc_bar);\\n\\nNPscale2 = Lambda2_q * 4.0;\\na3_NP_bar = b0_q/np.log(NPscale2/Lambda2_q);\\n\\n\\ntc = b0_q*np.log(np.log(4*Mc*Mc/Lambda2_q));\\ntb = b0_c*np.log(np.log(4*Mb*Mb/Lambda2_c))   - b0_c*np.log(np.log(4*Mc*Mc/Lambda2_c))   + b0_q*np.log(np.log(4*Mc*Mc/Lambda2_q));\\n\\n\\nLO, varaible flavor\\n@np.vectorize\\ndef alpha(Q2):\\n    Q2 = np.max([NPscale2, Q2])\\n    if Q2<4*Mc*Mc:\\n        return 2.*np.pi*b0_q/np.log(Q2/Lambda2_q)\\n    elif Q2<4*Mb*Mb:\\n        return 2.*np.pi*b0_c/np.log(Q2/Lambda2_c)\\n    else:\\n        return 2.*np.pi*b0_b/np.log(Q2/Lambda2_b)\\n        \\n\\n# convert Q2 to the integration variable: dt = -2/beta * dln alpha\\ndef Q2_to_t(Q2):\\n    Q2 = np.max([NPscale2, Q2])\\n    if Q2<4*Mc*Mc:\\n        return - b0_q * np.log(alpha(Q2)/2/np.pi/a3_NP_bar)\\n    elif Q2<4*Mb*Mb:\\n        return - b0_c * np.log(alpha(Q2)/2/np.pi/a4_Mc_bar)                - b0_q * np.log(a4_Mc_bar/a3_NP_bar)\\n    else:\\n        return - b0_b * np.log(alpha(Q2)/2/np.pi/a5_Mb_bar)               - b0_c * np.log(a5_Mb_bar/a4_Mc_bar)                - b0_q * np.log(a4_Mc_bar/a3_NP_bar)\\n               \\nprint(\"alpha_s(Mz) =\", alpha(Mz**2))\\n'"
      ]
     },
     "execution_count": 1,
     "metadata": {},
     "output_type": "execute_result"
    }
   ],
   "source": [
    "import numpy as np\n",
    "import matplotlib.pyplot as plt\n",
    "from scipy.special import beta\n",
    "from scipy.interpolate import interp1d, interp2d\n",
    "from scipy.integrate import quad, quad_vec\n",
    "import lhapdf\n",
    "import h5py\n",
    "from scipy.special import beta, digamma, gamma, loggamma, polygamma\n",
    "import matplotlib.gridspec as gridspec\n",
    "\n",
    "\"\"\"\n",
    "Mc = 1.3\n",
    "Mb = 4.2\n",
    "Mz = 91.7\n",
    "\n",
    "b0_q = 2./(11.-2./3.*3);\n",
    "b0_c = 2./(11.-2./3.*4);\n",
    "b0_b = 2./(11.-2./3.*5);\n",
    "alphas_Mz_bar = 0.118 / 2. / np.pi;\n",
    "Lambda2_b = Mz**2/np.exp(b0_b/alphas_Mz_bar);\n",
    "a5_Mb_bar = b0_b/np.log((2*Mb)**2/Lambda2_b);\n",
    "Lambda2_c = (2*Mb)**2/np.exp(b0_c/a5_Mb_bar);\n",
    "a4_Mc_bar = b0_c/np.log((2*Mc)**2/Lambda2_c);\n",
    "Lambda2_q = (2*Mc)**2/np.exp(b0_q/a4_Mc_bar);\n",
    "\n",
    "NPscale2 = Lambda2_q * 4.0;\n",
    "a3_NP_bar = b0_q/np.log(NPscale2/Lambda2_q);\n",
    "\n",
    "\n",
    "tc = b0_q*np.log(np.log(4*Mc*Mc/Lambda2_q));\n",
    "tb = b0_c*np.log(np.log(4*Mb*Mb/Lambda2_c))\\\n",
    "   - b0_c*np.log(np.log(4*Mc*Mc/Lambda2_c))\\\n",
    "   + b0_q*np.log(np.log(4*Mc*Mc/Lambda2_q));\n",
    "\n",
    "\n",
    "LO, varaible flavor\n",
    "@np.vectorize\n",
    "def alpha(Q2):\n",
    "    Q2 = np.max([NPscale2, Q2])\n",
    "    if Q2<4*Mc*Mc:\n",
    "        return 2.*np.pi*b0_q/np.log(Q2/Lambda2_q)\n",
    "    elif Q2<4*Mb*Mb:\n",
    "        return 2.*np.pi*b0_c/np.log(Q2/Lambda2_c)\n",
    "    else:\n",
    "        return 2.*np.pi*b0_b/np.log(Q2/Lambda2_b)\n",
    "        \n",
    "\n",
    "# convert Q2 to the integration variable: dt = -2/beta * dln alpha\n",
    "def Q2_to_t(Q2):\n",
    "    Q2 = np.max([NPscale2, Q2])\n",
    "    if Q2<4*Mc*Mc:\n",
    "        return - b0_q * np.log(alpha(Q2)/2/np.pi/a3_NP_bar)\n",
    "    elif Q2<4*Mb*Mb:\n",
    "        return - b0_c * np.log(alpha(Q2)/2/np.pi/a4_Mc_bar) \\\n",
    "               - b0_q * np.log(a4_Mc_bar/a3_NP_bar)\n",
    "    else:\n",
    "        return - b0_b * np.log(alpha(Q2)/2/np.pi/a5_Mb_bar)\\\n",
    "               - b0_c * np.log(a5_Mb_bar/a4_Mc_bar) \\\n",
    "               - b0_q * np.log(a4_Mc_bar/a3_NP_bar)\n",
    "               \n",
    "print(\"alpha_s(Mz) =\", alpha(Mz**2))\n",
    "\"\"\"\n"
   ]
  },
  {
   "cell_type": "code",
   "execution_count": 2,
   "id": "7cfd1054",
   "metadata": {},
   "outputs": [
    {
     "name": "stdout",
     "output_type": "stream",
     "text": [
      "LHAPDF 6.4.0 loading /home/weiyaoke/.local/share/LHAPDF/CT14nlo/CT14nlo_0000.dat\n",
      "CT14nlo PDF set, member #0, version 1; LHAPDF ID = 13100\n"
     ]
    }
   ],
   "source": [
    "# QCD stuff\n",
    "\n",
    "\n",
    "CA = 3.\n",
    "CF = 4./3.\n",
    "TR = 1./2.\n",
    "Nf = 4 # For jetpT*R>2*charm mass, but below 2*bottom mass\n",
    "\n",
    "beta0_eff = (11.-2./3.*Nf)\n",
    "beta1_eff = (102.-38./3.*Nf)\n",
    "P = lhapdf.mkPDF(\"CT14nlo/0\")\n",
    "def alpha(Q2):\n",
    "    return P.alphasQ2(Q2)\n",
    "def Q2_to_t(Q2):\n",
    "    return -2/beta0_eff * (  np.log(alpha(Q2))\n",
    "                           - np.log(1+beta1_eff/beta0_eff/4/np.pi*alpha(Q2)) )\n",
    "\n",
    "    \n"
   ]
  },
  {
   "cell_type": "code",
   "execution_count": null,
   "id": "8e007b13",
   "metadata": {},
   "outputs": [],
   "source": []
  },
  {
   "cell_type": "code",
   "execution_count": 3,
   "id": "17051d5d",
   "metadata": {},
   "outputs": [],
   "source": [
    "# Vacuum DGLAP kernel in the Melin space\n",
    "# f(N) = int_0^1 dz z^{N-1} f(z)\n",
    "def Mqq(N):\n",
    "    return CF * (3./2. - (1+2*N)/(N*(N+1)) - 2.*np.euler_gamma - 2.*digamma(N) ) \n",
    "def Mqg(N):\n",
    "    return CF * (N**2 + N + 2) / (N**3 - N) \n",
    "def Mgg(N):\n",
    "    return CA * ( 2./(N*(N-1)) + 2/((N+1)*(N+2)) - 2.*np.euler_gamma - 2.*digamma(N+1) )\\\n",
    "         + beta0_eff/2.\n",
    "def Mgq(N):\n",
    "    return TR*(N**2+N+2)/(N*(N+1)*(N+2))"
   ]
  },
  {
   "cell_type": "code",
   "execution_count": null,
   "id": "98f2ae5e",
   "metadata": {},
   "outputs": [],
   "source": []
  },
  {
   "cell_type": "code",
   "execution_count": 4,
   "id": "69c1df8e",
   "metadata": {},
   "outputs": [],
   "source": [
    "# LO + NLO initial conditon\n",
    "gE = np.euler_gamma\n",
    "gE2 = gE**2\n",
    "pi2 = np.pi**2\n",
    "\n",
    "A0 = -96\n",
    "A1 = -(72+96*gE)\n",
    "A2 = (264-168*gE-24*gE2-4*pi2)\n",
    "A3 = (396-12*gE-48*gE2-8*pi2)\n",
    "A4 = (240+144*gE-6*gE2-pi2)\n",
    "A5 = (60+108*gE+42*gE2+7*pi2)\n",
    "A6 = (24*gE+30*gE2+5*pi2)\n",
    "A7 = (6*gE2+pi2)\n",
    "B21 = 5+2*gE\n",
    "B22 = 2+3*gE\n",
    "\n",
    "dJq = CF*pi2/12. + CF*(13./2.-2*pi2/3.)\n",
    "dJg = CA*np.pi**2/12. + CA*(67/9.-2*np.pi**2/3.) - TR*Nf*23./9.\n",
    "\n",
    "def IC(N, abar0, order):\n",
    "    # LO\n",
    "    if order=='LO':\n",
    "        return 1, 1\n",
    "    \n",
    "    # NLO\n",
    "    N2 = N**2\n",
    "    N3 = N*N2\n",
    "    N4 = N2**2\n",
    "    N5 = N4*N\n",
    "    N6 = N4*N2\n",
    "    N7 = N6*N\n",
    "    \n",
    "    Nm1 = N-1\n",
    "    Np1 = N+1\n",
    "    Np2 = N+2\n",
    "    N2_N_2 = N2+N+2\n",
    "    digammaN = digamma(N)\n",
    "    digammaNm1 = digamma(N-1)\n",
    "    trigammaN = (digamma(N+.01)-digamma(N-.01))/.02\n",
    "    trigammaNm1 = (digamma(N-1+.01)-digamma(N-1-.01))/.02\n",
    "    \n",
    "    # NLO quark\n",
    "    A = 1/(N*Np1)**2 + (3+gE+gE*N*(2+gE+gE*N))/N/Np1 + pi2/6.\\\n",
    "      + digammaN*(2*gE+1/N+1/Np1+digammaN) - trigammaN\n",
    "    \n",
    "    B = (2+3*N)/(N*Np1)**2 - (gE+digammaN)*N2_N_2/(Nm1*N*Np1)\n",
    "    S1q = 2*CF*A + CF/N - dJq + 2*CF*B\n",
    "    \n",
    "    # NLO gluon\n",
    "    A = 1./(12*Nm1*(N*Np1*Np2)**2) * (\n",
    "        A0 + A1*N + A2*N2 + A3*N3 + A4*N4 + A5*N5 + A6*N6 + A7*N7\n",
    "        +12*digammaNm1*(-2*N-N2+2*N3+N4)*(4+B21*N+B22*N2+gE*N3)\n",
    "        +6*(digammaNm1**2-trigammaNm1)*Nm1*N2*(2+3*N+N2)**2\n",
    "    )\n",
    "\n",
    "    B = 1./(Np1*Np2)**2 * (4+N-N2 - Np1*Np2*N2_N_2/N*(gE+digamma(N+1)) )\n",
    "    S1g = 4*CA*A - dJg + 4*Nf*TR*B\n",
    "    return  - abar0 * S1q,  - abar0 * S1g\n"
   ]
  },
  {
   "cell_type": "code",
   "execution_count": 5,
   "id": "48cca7a7",
   "metadata": {},
   "outputs": [],
   "source": [
    "# The evolution matrix\n",
    "def Mevo(N, dt):\n",
    "    a = Mqq(N); b = Mqg(N)\n",
    "    c = 2*Nf*Mgq(N); d = Mgg(N)\n",
    "\n",
    "    Delta = np.sqrt( (a-d)**2 + 4.*b*c)\n",
    "    S1 = np.exp(dt * ( a + d - Delta ) / 2. )\n",
    "    S2 = np.exp(dt * ( a + d + Delta ) / 2. )\n",
    "    A = (a - d - Delta)/2.\n",
    "    B = (a - d + Delta)/2.\n",
    "    \n",
    "    E1 = np.array([[A, b],\n",
    "                   [c,-B]]) * S1\n",
    "    E2 = np.array([[B, b],\n",
    "                   [c,-A]]) * S2\n",
    "    return (E2 - E1)/Delta"
   ]
  },
  {
   "cell_type": "code",
   "execution_count": 6,
   "id": "41a54506",
   "metadata": {},
   "outputs": [],
   "source": [
    "# Solution in Mellin space\n",
    "def RG_MJ(N, dt, abar0, order):\n",
    "    Matrix = Mevo(N, dt)\n",
    "    Jq0, Jg0 = IC(N, abar0, order)\n",
    "    return Matrix[0,0]*Jq0 + Matrix[0,1]*Jg0, Matrix[1,0]*Jq0 + Matrix[1,1]*Jg0\n",
    "\n",
    "# Tranform back to real space\n",
    "@np.vectorize\n",
    "def RG_J(zz, Q2max, Q2min, order='LO'):\n",
    "    ReN = 2.5\n",
    "    phi = 3./4.*np.pi\n",
    "    lnz = np.log(zz)\n",
    "    dt  = Q2_to_t(Q2max) - Q2_to_t(Q2min)\n",
    "    Ephi = np.exp(1j*phi)\n",
    "    Ephi_c = np.exp(-1j*phi)\n",
    "    abar0 = alpha(Q2min)/2/np.pi\n",
    "    \n",
    "    def df(ln1px):\n",
    "        x = np.exp(ln1px) - 1.\n",
    "        \n",
    "        # upper contour\n",
    "        N = ReN + x*Ephi\n",
    "        MJq, MJg = RG_MJ(N, dt, abar0, order)\n",
    "        IM_up = np.exp( - N*lnz + 1j*phi - 1j*np.pi/2)\n",
    "        QA = (MJq * IM_up).real\n",
    "        GA = (MJg * IM_up).real\n",
    "\n",
    "        # the negative of the lower contour\n",
    "        N = ReN + x*Ephi_c\n",
    "        MJq, MJg = RG_MJ(N, dt, abar0, order)\n",
    "        IM_down = np.exp( - N*lnz - 1j*phi - 1j*np.pi/2)\n",
    "        QB = (MJq * IM_down).real\n",
    "        GB = (MJg * IM_down).real\n",
    "        return np.array([ QA-QB, GA-GB ]) * (1+x) # with Jacobian\n",
    "\n",
    "    \n",
    "    Jq, Jg = quad_vec(df, 0, np.log(1-40/lnz), epsrel=.01)[0]\n",
    "    return Jq/2/np.pi , Jg/2/np.pi "
   ]
  },
  {
   "cell_type": "code",
   "execution_count": 7,
   "id": "a5906571",
   "metadata": {},
   "outputs": [],
   "source": [
    "# grid with good resolution near z=0,1\n",
    "u = np.linspace(np.log(.01),-np.log(.001),31)\n",
    "z = 1/(1+np.exp(-u))"
   ]
  },
  {
   "cell_type": "code",
   "execution_count": 8,
   "id": "2aa054d3",
   "metadata": {
    "scrolled": false
   },
   "outputs": [
    {
     "name": "stderr",
     "output_type": "stream",
     "text": [
      "/tmp/ipykernel_1331420/666427123.py:41: MatplotlibDeprecationWarning: Passing the pad parameter of tight_layout() positionally is deprecated since Matplotlib 3.3; the parameter will become keyword-only two minor releases later.\n",
      "  plt.tight_layout(True)\n"
     ]
    },
    {
     "data": {
      "image/png": "[encoded data removed]",
      "text/plain": [
       "<Figure size 489.6x252 with 2 Axes>"
      ]
     },
     "metadata": {
      "needs_background": "light"
     },
     "output_type": "display_data"
    }
   ],
   "source": [
    "pT = 50\n",
    "Q2max = pT**2\n",
    "Rs = [.1,.3,.5]\n",
    "\n",
    "fig, (ax, ax1) = plt.subplots(1,2,figsize=(6.8,3.5), sharex=True, sharey=True)\n",
    "for R, line in zip(Rs, ['--','-.','-']):\n",
    "    Q2min = (pT*R)**2\n",
    "    Jq, Jg = RG_J(z, Q2max, Q2min, order='LO')\n",
    "    ax.plot([],[],color='none',label='${}$'.format(R))\n",
    "    ax.plot(z, Jg, line, color='r', label=r'$g$')\n",
    "    ax.plot(z, Jq, line, color='b', label=r'$q$')\n",
    "\n",
    "\n",
    "ax.plot([0,1],[0,0],'k--')\n",
    "ax.set_xlabel(\"$z$\", fontsize=15)\n",
    "ax.set_ylabel(\"$\\mathcal{J}(z, p_T, R)$\", fontsize=15)\n",
    "ax.annotate(r\"$p_T={}$ GeV\".format(pT)+'\\n'+'$\\mathcal{J}^{~(0)}$', xy=(.5,.05), xycoords=\"axes fraction\",fontsize=13)\n",
    "ax.set_xlim(0.01,1)\n",
    "ax.set_ylim(-10,10)\n",
    "ax.semilogx()\n",
    "\n",
    "\n",
    "ax = ax1\n",
    "for R, line in zip(Rs, ['--','-.','-']):\n",
    "    Q2min = (pT*R)**2\n",
    "    Jq, Jg = RG_J(z, Q2max, Q2min, order='NLO')\n",
    "    ax.plot([],[],color='none',label='${}$'.format(R))\n",
    "    ax.plot(z, Jg, line, color='r', label=r'$g$')\n",
    "    ax.plot(z, Jq, line, color='b', label=r'$q$')\n",
    "\n",
    "\n",
    "ax.plot([0,1],[0,0],'k--')\n",
    "ax.set_xlabel(\"$z$\", fontsize=15)\n",
    "ax.annotate(r\"$p_T={}$ GeV\".format(pT)+'\\n'+'$\\mathcal{J}^{~(1)}$', xy=(.5,.05), xycoords=\"axes fraction\",fontsize=13)\n",
    "ax.set_xlim(0.01,1)\n",
    "ax.set_ylim(-10,10)\n",
    "ax.semilogx()\n",
    "ax.legend(ncol=3, framealpha=0)\n",
    "\n",
    "\n",
    "plt.tight_layout(True)\n",
    "plt.subplots_adjust(wspace=.15)\n",
    "plt.savefig(\"JetFunctions-R.png\", dpi=300)"
   ]
  },
  {
   "cell_type": "code",
   "execution_count": 9,
   "id": "cf86d148",
   "metadata": {},
   "outputs": [],
   "source": [
    "# Tabulate jet function\n",
    "pTjets = np.exp(np.linspace(np.log(5),np.log(2000),40))\n",
    "Rs = np.array([0.1, 0.2, 0.3, 0.4])\n",
    "z1mz_JF_data = {'q': {'LO':[], 'NLO':[]},\n",
    "                'g': {'LO':[], 'NLO':[]},\n",
    "                'R' : Rs,\n",
    "                'pT': pTjets,\n",
    "                'z' : z\n",
    "                }\n",
    "\n",
    "for i, R in enumerate(Rs):\n",
    "    \n",
    "    z1mz_JF_data['q']['LO'].append([])\n",
    "    z1mz_JF_data['g']['LO'].append([])\n",
    "    for pTjet in pTjets:\n",
    "        Q2max = pTjet**2\n",
    "        Q2min = (pTjet*R)**2\n",
    "        Jq, Jg = RG_J(z, Q2max, Q2min, 'LO')\n",
    "        z1mz_JF_data['q']['LO'][-1].append(z*(1-z)*Jq)\n",
    "        z1mz_JF_data['g']['LO'][-1].append(z*(1-z)*Jg)\n",
    "        \n",
    "    z1mz_JF_data['q']['NLO'].append([])\n",
    "    z1mz_JF_data['g']['NLO'].append([])\n",
    "    for pTjet in pTjets:\n",
    "        Q2max = pTjet**2\n",
    "        Q2min = (pTjet*R)**2\n",
    "        Jq, Jg = RG_J(z, Q2max, Q2min, 'NLO')\n",
    "        z1mz_JF_data['q']['NLO'][-1].append(z*(1-z)*Jq)\n",
    "        z1mz_JF_data['g']['NLO'][-1].append(z*(1-z)*Jg)"
   ]
  },
  {
   "cell_type": "code",
   "execution_count": null,
   "id": "8013b078",
   "metadata": {},
   "outputs": [],
   "source": []
  },
  {
   "cell_type": "code",
   "execution_count": 10,
   "id": "a9bccb3a",
   "metadata": {},
   "outputs": [],
   "source": [
    "# Interpolate z*(1-z)*JF for each order and each R as function of lnpTjet and z\n",
    "z1mz_JF = {'q': {'LO':[], 'NLO':[]},\n",
    "           'g': {'LO':[], 'NLO':[]}\n",
    "          }\n",
    "for i, R in enumerate(Rs):\n",
    "    lnpT = np.log(pTjets)\n",
    "    for sp in 'qg':\n",
    "        for order in ['LO', 'NLO']:\n",
    "            z1mz_JF[sp][order].append(interp2d(lnpT, z, np.array(z1mz_JF_data[sp][order][i]).T, \n",
    "                                               kind='cubic', fill_value=0., bounds_error=False))\n",
    "\n",
    "def JF(pT, z, iR, specie, order):\n",
    "    return z1mz_JF[specie][order][iR](np.log(pT), z)/z/(1-z)"
   ]
  },
  {
   "cell_type": "code",
   "execution_count": 11,
   "id": "71e965d8",
   "metadata": {},
   "outputs": [],
   "source": [
    "@np.vectorize\n",
    "def sigma_fold_JF(pTjet, ln_dsigma_dpT, RR, iR, specie, order='LO'):\n",
    "    Q2max = pTjet**2\n",
    "    Q2min = pTjet**2*RR**2\n",
    "    abar0 = alpha(Q2min)/2/np.pi\n",
    "    \n",
    "    ez = .01\n",
    "    zmax = 1-ez\n",
    "    umax = np.log(1/(1-zmax))\n",
    "    \n",
    "    # from 0 to 1-ez\n",
    "    def df(u):\n",
    "        z = 1 - np.exp(-u)\n",
    "        Jacobian = (1-z)/z\n",
    "        res = np.exp(ln_dsigma_dpT(np.log(pTjet/z)))*JF(pTjet, z, iR, specie, order)\n",
    "        return res * Jacobian\n",
    "    A = quad(df, ez, umax)[0]\n",
    "    \n",
    "    # from 1-ez to ez\n",
    "    Nfix = 6\n",
    "    def df2(u):\n",
    "        z = 1 - np.exp(-u)\n",
    "        Jacobian = (1-z)\n",
    "        return JF(pTjet, z, iR, specie, order) * z**(Nfix-1) * Jacobian\n",
    "    \n",
    "    subtraction = quad(df2, 0, umax)[0]\n",
    "    JqNm1, JgNm1 = RG_MJ(Nfix, \n",
    "                         Q2_to_t(Q2max) - Q2_to_t(Q2min),\n",
    "                         abar0, order)\n",
    "    sigma0 = np.exp(ln_dsigma_dpT(np.log(pTjet)))\n",
    "    B = sigma0*((JqNm1 if specie=='q' else JgNm1) - subtraction)\n",
    "                \n",
    "    return A + B\n"
   ]
  },
  {
   "cell_type": "code",
   "execution_count": null,
   "id": "78005d94",
   "metadata": {},
   "outputs": [],
   "source": []
  },
  {
   "cell_type": "code",
   "execution_count": null,
   "id": "83b78028",
   "metadata": {},
   "outputs": [],
   "source": []
  },
  {
   "cell_type": "code",
   "execution_count": 12,
   "id": "faa0c267",
   "metadata": {},
   "outputs": [],
   "source": [
    "def MakeSpectra(x, y):\n",
    "    return interp1d(np.log(x), np.log(1e-35+y), fill_value=np.log(1e-35), bounds_error=False)"
   ]
  },
  {
   "cell_type": "markdown",
   "id": "d982d856",
   "metadata": {},
   "source": [
    "# STAR 200 GeV, R=0.4"
   ]
  },
  {
   "cell_type": "code",
   "execution_count": 20,
   "id": "9b35e9a4",
   "metadata": {},
   "outputs": [],
   "source": [
    "# https://journals.aps.org/prl/pdf/10.1103/PhysRevLett.97.252001\n",
    "# quark spectra, LO and NLO correction\n",
    "pT, dsigma_dpT_dy_g_lo = np.loadtxt(\"/home/weiyaoke/Research/NLO_initial_parton_spectra/qqbar/pp2g-200GeV-LO-CT14nlo.dat\").T\n",
    "pT, dsigma_dpT_dy_g_nlo = np.loadtxt(\"/home/weiyaoke/Research/NLO_initial_parton_spectra/qqbar/pp2g-200GeV-NLO-CT14nlo.dat\").T\n",
    "dsigma_dpT_dy_g_nlo -= dsigma_dpT_dy_g_lo\n",
    "\n",
    "# qluon spectra, LO and NLO correction\n",
    "pT, dsigma_dpT_dy_q_lo = np.loadtxt(\"/home/weiyaoke/Research/NLO_initial_parton_spectra/qqbar/pp2qqbar-200GeV-LO-CT14nlo.dat\").T\n",
    "pT, dsigma_dpT_dy_q_nlo = np.loadtxt(\"/home/weiyaoke/Research/NLO_initial_parton_spectra/qqbar/pp2qqbar-200GeV-NLO-CT14nlo.dat\").T\n",
    "dsigma_dpT_dy_q_nlo -= dsigma_dpT_dy_q_lo\n",
    "\n",
    "R, iR = 0.4, 3\n",
    "# LO jet cross section, parton level\n",
    "dsigma_dpT_dy_LO = dsigma_dpT_dy_q_lo + dsigma_dpT_dy_g_lo\n",
    "\n",
    "pp2q2J_00 = 1.*dsigma_dpT_dy_q_lo\n",
    "pp2q2J_01 = sigma_fold_JF(pT,  MakeSpectra(pT, dsigma_dpT_dy_q_lo), R, iR, 'q', 'NLO')\n",
    "pp2q2J_10 = sigma_fold_JF(pT,  MakeSpectra(pT, dsigma_dpT_dy_q_nlo), R, iR, 'q', 'LO')\n",
    "pp2g2J_00 = 1.*dsigma_dpT_dy_g_lo \n",
    "pp2g2J_01 = sigma_fold_JF(pT,  MakeSpectra(pT, dsigma_dpT_dy_g_lo), R, iR, 'g', 'NLO')\n",
    "pp2g2J_10 = sigma_fold_JF(pT,  MakeSpectra(pT, dsigma_dpT_dy_g_nlo), R, iR, 'g', 'LO')\n",
    "\n",
    "with open(\"pp2q2J-200GeV-R0d4.dat\",'w') as file:\n",
    "    for (ipT, a,b,c,d,e,f) in zip(pT, pp2q2J_00, pp2q2J_01, pp2q2J_10, \n",
    "                                 pp2g2J_00, pp2g2J_01, pp2g2J_10):\n",
    "        file.write(\"{:1.3f}\\t{:1.3e}\\t{:1.3e}\\t{:1.3e}\\t{:1.3e}\\t{:1.3e}\\t{:1.3e}\\n\".format(ipT, a,b,c,d,e,f))\n",
    "\n",
    "\n",
    "\n",
    "def plot_exp(ax, color='k', scale=lambda x: 0):\n",
    "    pT, pTl, pTh, y, stat, _, sys, _ = np.loadtxt(\"./Data/STAR-pp200-R0.4.dat\").T\n",
    "    # pb -> mb\n",
    "    y *= 1e-9 * 2*np.pi\n",
    "    stat *= 1e-9 * 2*np.pi\n",
    "    sys *= 1e-9 * 2*np.pi\n",
    "    y0 = np.array([np.exp(scale(np.log(np.linspace(L,H,10)))).mean() \n",
    "                         for L, H in zip(pTl, pTh)])\n",
    "    y /= y0\n",
    "    stat /= y0\n",
    "    sys /= y0\n",
    "    ax.errorbar(pT, y, xerr=(pTh-pTl)/2., yerr=stat, fmt='.', color=color)\n",
    "    \n",
    "    for il, ih, yl, yh in zip(pTl, pTh, y-sys, y+sys):\n",
    "        ax.fill_between([il,ih], [yl,yl], [yh,yh], facecolor='none', edgecolor=color)"
   ]
  },
  {
   "cell_type": "code",
   "execution_count": 17,
   "id": "1a8b0780",
   "metadata": {},
   "outputs": [
    {
     "name": "stderr",
     "output_type": "stream",
     "text": [
      "/tmp/ipykernel_1331420/2827746042.py:45: MatplotlibDeprecationWarning: Passing the pad parameter of tight_layout() positionally is deprecated since Matplotlib 3.3; the parameter will become keyword-only two minor releases later.\n",
      "  plt.tight_layout(True)\n"
     ]
    },
    {
     "data": {
      "image/png": "[encoded data removed]",
      "text/plain": [
       "<Figure size 288x288 with 2 Axes>"
      ]
     },
     "metadata": {
      "needs_background": "light"
     },
     "output_type": "display_data"
    }
   ],
   "source": [
    "R, iR = 0.4, 3\n",
    "\n",
    "# LO + LL\n",
    "dsigma_dpT_dy_LO_LL = sigma_fold_JF(pT,  MakeSpectra(pT, dsigma_dpT_dy_q_lo), R, iR, 'q', 'LO')\\\n",
    "                    + sigma_fold_JF(pT,  MakeSpectra(pT, dsigma_dpT_dy_g_lo), R, iR, 'g', 'LO')\n",
    "# LO + LL + NLL\n",
    "dsigma_dpT_dy_NLO_LL = dsigma_dpT_dy_LO_LL\\\n",
    "                     + sigma_fold_JF(pT,  MakeSpectra(pT, dsigma_dpT_dy_q_lo), R, iR, 'q', 'NLO')\\\n",
    "                     + sigma_fold_JF(pT,  MakeSpectra(pT, dsigma_dpT_dy_g_lo), R, iR, 'g', 'NLO')\\\n",
    "                     + sigma_fold_JF(pT,  MakeSpectra(pT, dsigma_dpT_dy_q_nlo), R, iR, 'q', 'LO')\\\n",
    "                     + sigma_fold_JF(pT,  MakeSpectra(pT, dsigma_dpT_dy_g_nlo), R, iR, 'g', 'LO')\n",
    "\n",
    "fig = plt.figure(figsize=(4,4))\n",
    "gs = gridspec.GridSpec(5, 1)\n",
    "ax1 = fig.add_subplot(gs[:3])\n",
    "ax2 = fig.add_subplot(gs[3:])\n",
    "\n",
    "# dsigma/dpT/dy\n",
    "ax1.plot(pT, dsigma_dpT_dy_LO, 'r', label='LO')\n",
    "ax1.plot(pT, dsigma_dpT_dy_LO_LL, 'g', label='LO+LL')\n",
    "ax1.plot(pT, dsigma_dpT_dy_NLO_LL, 'b', label=\"NLO+LL\")\n",
    "plot_exp(ax1)\n",
    "\n",
    "ax1.semilogy()\n",
    "ax1.set_ylim(1e-10,5e-1)\n",
    "ax1.set_xlim(0,55)\n",
    "ax1.set_xticks([])\n",
    "ax1.legend(loc='lower left', framealpha=0.)\n",
    "ax1.set_ylabel(r\"$d\\sigma/d\\eta/dp_T$ [mb/GeV]\")\n",
    "ax1.annotate(r\"$\\sqrt{s}=200$ GeV, $R=0.4$, STAR\", xy=(.2,.9), xycoords='axes fraction')\n",
    "\n",
    "# Exp/Theory\n",
    "plot_exp(ax2, color='r', scale=MakeSpectra(pT, dsigma_dpT_dy_LO) )\n",
    "plot_exp(ax2, color='g', scale=MakeSpectra(pT, dsigma_dpT_dy_LO_LL) )\n",
    "plot_exp(ax2, color='b', scale=MakeSpectra(pT, dsigma_dpT_dy_NLO_LL) )\n",
    "\n",
    "ax2.set_ylim(0,1.9)\n",
    "ax2.plot([0,55],[1,1], 'k-')\n",
    "ax1.set_xlim(0,55)\n",
    "ax2.set_xlabel(r\"$p_T^{\\rm jet}$ [GeV]\")\n",
    "ax2.set_ylabel(r\"Data/Theory\")\n",
    "\n",
    "\n",
    "\n",
    "plt.tight_layout(True)\n",
    "plt.subplots_adjust(hspace=0)\n",
    "plt.savefig(\"STAR-jet-R0d4.png\", dpi=300)\n"
   ]
  },
  {
   "cell_type": "markdown",
   "id": "8a633dc6",
   "metadata": {},
   "source": [
    "# ATLAS 7 TeV, R=0.4"
   ]
  },
  {
   "cell_type": "code",
   "execution_count": 24,
   "id": "92362e86",
   "metadata": {},
   "outputs": [
    {
     "name": "stdout",
     "output_type": "stream",
     "text": [
      "[  50.     61.36   75.3    92.4   113.4   139.2   170.8   209.6   257.2\n",
      "  315.6   387.3   475.3   583.3   715.8   878.4  1078.   1323.   1623.\n",
      " 1992.   2445.   3000.  ]\n"
     ]
    }
   ],
   "source": [
    "# quark spectra, LO and NLO correction\n",
    "pT, dsigma_dpT_dy_g_lo = np.loadtxt(\"/home/weiyaoke/Research/NLO_initial_parton_spectra/qqbar/pp2g-7TeV-LO-CT14nlo.dat\").T\n",
    "pT, dsigma_dpT_dy_g_nlo = np.loadtxt(\"/home/weiyaoke/Research/NLO_initial_parton_spectra/qqbar/pp2g-7TeV-NLO-CT14nlo.dat\").T\n",
    "dsigma_dpT_dy_g_nlo -= dsigma_dpT_dy_g_lo\n",
    "\n",
    "# qluon spectra, LO and NLO correction\n",
    "pT, dsigma_dpT_dy_q_lo = np.loadtxt(\"/home/weiyaoke/Research/NLO_initial_parton_spectra/qqbar/pp2qqbar-7TeV-LO-CT14nlo.dat\").T\n",
    "pT, dsigma_dpT_dy_q_nlo = np.loadtxt(\"/home/weiyaoke/Research/NLO_initial_parton_spectra/qqbar/pp2qqbar-7TeV-NLO-CT14nlo.dat\").T\n",
    "dsigma_dpT_dy_q_nlo -= dsigma_dpT_dy_q_lo\n",
    "\n",
    "# LO jet cross section, parton level\n",
    "dsigma_dpT_dy_LO = dsigma_dpT_dy_q_lo + dsigma_dpT_dy_g_lo\n",
    "\n",
    "# Load data\n",
    "def plot_exp(ax, color='k', scale=lambda x: 0):\n",
    "    pT, pTl, pTh, y, stat, _ = np.loadtxt(\"./Data/ATLAS-pp7000-jet.dat\").T\n",
    "    # pb -> mb\n",
    "    y /= 10**9\n",
    "    stat = y*stat/100\n",
    "    #(A, B), _ = curve_fit(template, np.log(pT), np.log(y))\n",
    "    #print(A, B)\n",
    "    y0 = np.array([np.exp(scale(np.log(np.linspace(L,H,10)))).mean() \n",
    "                         for L, H in zip(pTl, pTh)])\n",
    "    y /= y0\n",
    "    stat /= y0\n",
    "    ax.errorbar(pT, y, xerr=(pTh-pTl)/2., yerr=stat, fmt='.', color=color)"
   ]
  },
  {
   "cell_type": "code",
   "execution_count": 23,
   "id": "e4c73cca",
   "metadata": {},
   "outputs": [],
   "source": []
  },
  {
   "cell_type": "code",
   "execution_count": 21,
   "id": "693e2cf7",
   "metadata": {},
   "outputs": [
    {
     "ename": "ValueError",
     "evalue": "x and y arrays must be equal in length along interpolation axis.",
     "output_type": "error",
     "traceback": [
      "\u001b[0;31m---------------------------------------------------------------------------\u001b[0m",
      "\u001b[0;31mValueError\u001b[0m                                Traceback (most recent call last)",
      "\u001b[0;32m/tmp/ipykernel_1048297/2023859450.py\u001b[0m in \u001b[0;36m<module>\u001b[0;34m\u001b[0m\n\u001b[1;32m      2\u001b[0m \u001b[0mpT\u001b[0m \u001b[0;34m=\u001b[0m \u001b[0mnp\u001b[0m\u001b[0;34m.\u001b[0m\u001b[0mexp\u001b[0m\u001b[0;34m(\u001b[0m\u001b[0mnp\u001b[0m\u001b[0;34m.\u001b[0m\u001b[0mlinspace\u001b[0m\u001b[0;34m(\u001b[0m\u001b[0mnp\u001b[0m\u001b[0;34m.\u001b[0m\u001b[0mlog\u001b[0m\u001b[0;34m(\u001b[0m\u001b[0;36m10\u001b[0m\u001b[0;34m)\u001b[0m\u001b[0;34m,\u001b[0m \u001b[0mnp\u001b[0m\u001b[0;34m.\u001b[0m\u001b[0mlog\u001b[0m\u001b[0;34m(\u001b[0m\u001b[0;36m1500\u001b[0m\u001b[0;34m)\u001b[0m\u001b[0;34m,\u001b[0m \u001b[0;36m31\u001b[0m\u001b[0;34m)\u001b[0m\u001b[0;34m)\u001b[0m\u001b[0;34m\u001b[0m\u001b[0;34m\u001b[0m\u001b[0m\n\u001b[1;32m      3\u001b[0m \u001b[0;31m# LO + LL\u001b[0m\u001b[0;34m\u001b[0m\u001b[0;34m\u001b[0m\u001b[0;34m\u001b[0m\u001b[0m\n\u001b[0;32m----> 4\u001b[0;31m \u001b[0mdsigma_dpT_dy_LO_LL\u001b[0m \u001b[0;34m=\u001b[0m \u001b[0msigma_fold_JF\u001b[0m\u001b[0;34m(\u001b[0m\u001b[0mpT\u001b[0m\u001b[0;34m,\u001b[0m  \u001b[0mMakeSpectra\u001b[0m\u001b[0;34m(\u001b[0m\u001b[0mpT\u001b[0m\u001b[0;34m,\u001b[0m \u001b[0mdsigma_dpT_dy_q_lo\u001b[0m\u001b[0;34m)\u001b[0m\u001b[0;34m,\u001b[0m \u001b[0mR\u001b[0m\u001b[0;34m,\u001b[0m \u001b[0miR\u001b[0m\u001b[0;34m,\u001b[0m \u001b[0;34m'q'\u001b[0m\u001b[0;34m,\u001b[0m \u001b[0;34m'LO'\u001b[0m\u001b[0;34m)\u001b[0m\u001b[0;31m\\\u001b[0m\u001b[0;34m\u001b[0m\u001b[0;34m\u001b[0m\u001b[0m\n\u001b[0m\u001b[1;32m      5\u001b[0m                     \u001b[0;34m+\u001b[0m \u001b[0msigma_fold_JF\u001b[0m\u001b[0;34m(\u001b[0m\u001b[0mpT\u001b[0m\u001b[0;34m,\u001b[0m  \u001b[0mMakeSpectra\u001b[0m\u001b[0;34m(\u001b[0m\u001b[0mpT\u001b[0m\u001b[0;34m,\u001b[0m \u001b[0mdsigma_dpT_dy_g_lo\u001b[0m\u001b[0;34m)\u001b[0m\u001b[0;34m,\u001b[0m \u001b[0mR\u001b[0m\u001b[0;34m,\u001b[0m \u001b[0miR\u001b[0m\u001b[0;34m,\u001b[0m \u001b[0;34m'g'\u001b[0m\u001b[0;34m,\u001b[0m \u001b[0;34m'LO'\u001b[0m\u001b[0;34m)\u001b[0m\u001b[0;34m\u001b[0m\u001b[0;34m\u001b[0m\u001b[0m\n\u001b[1;32m      6\u001b[0m \u001b[0;31m# LO + LL + NLL\u001b[0m\u001b[0;34m\u001b[0m\u001b[0;34m\u001b[0m\u001b[0;34m\u001b[0m\u001b[0m\n",
      "\u001b[0;32m/tmp/ipykernel_1048297/3729014672.py\u001b[0m in \u001b[0;36mMakeSpectra\u001b[0;34m(x, y)\u001b[0m\n\u001b[1;32m      1\u001b[0m \u001b[0;32mdef\u001b[0m \u001b[0mMakeSpectra\u001b[0m\u001b[0;34m(\u001b[0m\u001b[0mx\u001b[0m\u001b[0;34m,\u001b[0m \u001b[0my\u001b[0m\u001b[0;34m)\u001b[0m\u001b[0;34m:\u001b[0m\u001b[0;34m\u001b[0m\u001b[0;34m\u001b[0m\u001b[0m\n\u001b[0;32m----> 2\u001b[0;31m     \u001b[0;32mreturn\u001b[0m \u001b[0minterp1d\u001b[0m\u001b[0;34m(\u001b[0m\u001b[0mnp\u001b[0m\u001b[0;34m.\u001b[0m\u001b[0mlog\u001b[0m\u001b[0;34m(\u001b[0m\u001b[0mx\u001b[0m\u001b[0;34m)\u001b[0m\u001b[0;34m,\u001b[0m \u001b[0mnp\u001b[0m\u001b[0;34m.\u001b[0m\u001b[0mlog\u001b[0m\u001b[0;34m(\u001b[0m\u001b[0;36m1e-35\u001b[0m\u001b[0;34m+\u001b[0m\u001b[0my\u001b[0m\u001b[0;34m)\u001b[0m\u001b[0;34m,\u001b[0m \u001b[0mfill_value\u001b[0m\u001b[0;34m=\u001b[0m\u001b[0mnp\u001b[0m\u001b[0;34m.\u001b[0m\u001b[0mlog\u001b[0m\u001b[0;34m(\u001b[0m\u001b[0;36m1e-35\u001b[0m\u001b[0;34m)\u001b[0m\u001b[0;34m,\u001b[0m \u001b[0mbounds_error\u001b[0m\u001b[0;34m=\u001b[0m\u001b[0;32mFalse\u001b[0m\u001b[0;34m)\u001b[0m\u001b[0;34m\u001b[0m\u001b[0;34m\u001b[0m\u001b[0m\n\u001b[0m",
      "\u001b[0;32m~/miniconda3/lib/python3.9/site-packages/scipy/interpolate/interpolate.py\u001b[0m in \u001b[0;36m__init__\u001b[0;34m(self, x, y, kind, axis, copy, bounds_error, fill_value, assume_sorted)\u001b[0m\n\u001b[1;32m    434\u001b[0m                  assume_sorted=False):\n\u001b[1;32m    435\u001b[0m         \u001b[0;34m\"\"\" Initialize a 1-D linear interpolation class.\"\"\"\u001b[0m\u001b[0;34m\u001b[0m\u001b[0;34m\u001b[0m\u001b[0m\n\u001b[0;32m--> 436\u001b[0;31m         \u001b[0m_Interpolator1D\u001b[0m\u001b[0;34m.\u001b[0m\u001b[0m__init__\u001b[0m\u001b[0;34m(\u001b[0m\u001b[0mself\u001b[0m\u001b[0;34m,\u001b[0m \u001b[0mx\u001b[0m\u001b[0;34m,\u001b[0m \u001b[0my\u001b[0m\u001b[0;34m,\u001b[0m \u001b[0maxis\u001b[0m\u001b[0;34m=\u001b[0m\u001b[0maxis\u001b[0m\u001b[0;34m)\u001b[0m\u001b[0;34m\u001b[0m\u001b[0;34m\u001b[0m\u001b[0m\n\u001b[0m\u001b[1;32m    437\u001b[0m \u001b[0;34m\u001b[0m\u001b[0m\n\u001b[1;32m    438\u001b[0m         \u001b[0mself\u001b[0m\u001b[0;34m.\u001b[0m\u001b[0mbounds_error\u001b[0m \u001b[0;34m=\u001b[0m \u001b[0mbounds_error\u001b[0m  \u001b[0;31m# used by fill_value setter\u001b[0m\u001b[0;34m\u001b[0m\u001b[0;34m\u001b[0m\u001b[0m\n",
      "\u001b[0;32m~/miniconda3/lib/python3.9/site-packages/scipy/interpolate/polyint.py\u001b[0m in \u001b[0;36m__init__\u001b[0;34m(self, xi, yi, axis)\u001b[0m\n\u001b[1;32m     52\u001b[0m         \u001b[0mself\u001b[0m\u001b[0;34m.\u001b[0m\u001b[0mdtype\u001b[0m \u001b[0;34m=\u001b[0m \u001b[0;32mNone\u001b[0m\u001b[0;34m\u001b[0m\u001b[0;34m\u001b[0m\u001b[0m\n\u001b[1;32m     53\u001b[0m         \u001b[0;32mif\u001b[0m \u001b[0myi\u001b[0m \u001b[0;32mis\u001b[0m \u001b[0;32mnot\u001b[0m \u001b[0;32mNone\u001b[0m\u001b[0;34m:\u001b[0m\u001b[0;34m\u001b[0m\u001b[0;34m\u001b[0m\u001b[0m\n\u001b[0;32m---> 54\u001b[0;31m             \u001b[0mself\u001b[0m\u001b[0;34m.\u001b[0m\u001b[0m_set_yi\u001b[0m\u001b[0;34m(\u001b[0m\u001b[0myi\u001b[0m\u001b[0;34m,\u001b[0m \u001b[0mxi\u001b[0m\u001b[0;34m=\u001b[0m\u001b[0mxi\u001b[0m\u001b[0;34m,\u001b[0m \u001b[0maxis\u001b[0m\u001b[0;34m=\u001b[0m\u001b[0maxis\u001b[0m\u001b[0;34m)\u001b[0m\u001b[0;34m\u001b[0m\u001b[0;34m\u001b[0m\u001b[0m\n\u001b[0m\u001b[1;32m     55\u001b[0m \u001b[0;34m\u001b[0m\u001b[0m\n\u001b[1;32m     56\u001b[0m     \u001b[0;32mdef\u001b[0m \u001b[0m__call__\u001b[0m\u001b[0;34m(\u001b[0m\u001b[0mself\u001b[0m\u001b[0;34m,\u001b[0m \u001b[0mx\u001b[0m\u001b[0;34m)\u001b[0m\u001b[0;34m:\u001b[0m\u001b[0;34m\u001b[0m\u001b[0;34m\u001b[0m\u001b[0m\n",
      "\u001b[0;32m~/miniconda3/lib/python3.9/site-packages/scipy/interpolate/polyint.py\u001b[0m in \u001b[0;36m_set_yi\u001b[0;34m(self, yi, xi, axis)\u001b[0m\n\u001b[1;32m    122\u001b[0m             \u001b[0mshape\u001b[0m \u001b[0;34m=\u001b[0m \u001b[0;34m(\u001b[0m\u001b[0;36m1\u001b[0m\u001b[0;34m,\u001b[0m\u001b[0;34m)\u001b[0m\u001b[0;34m\u001b[0m\u001b[0;34m\u001b[0m\u001b[0m\n\u001b[1;32m    123\u001b[0m         \u001b[0;32mif\u001b[0m \u001b[0mxi\u001b[0m \u001b[0;32mis\u001b[0m \u001b[0;32mnot\u001b[0m \u001b[0;32mNone\u001b[0m \u001b[0;32mand\u001b[0m \u001b[0mshape\u001b[0m\u001b[0;34m[\u001b[0m\u001b[0maxis\u001b[0m\u001b[0;34m]\u001b[0m \u001b[0;34m!=\u001b[0m \u001b[0mlen\u001b[0m\u001b[0;34m(\u001b[0m\u001b[0mxi\u001b[0m\u001b[0;34m)\u001b[0m\u001b[0;34m:\u001b[0m\u001b[0;34m\u001b[0m\u001b[0;34m\u001b[0m\u001b[0m\n\u001b[0;32m--> 124\u001b[0;31m             raise ValueError(\"x and y arrays must be equal in length along \"\n\u001b[0m\u001b[1;32m    125\u001b[0m                              \"interpolation axis.\")\n\u001b[1;32m    126\u001b[0m \u001b[0;34m\u001b[0m\u001b[0m\n",
      "\u001b[0;31mValueError\u001b[0m: x and y arrays must be equal in length along interpolation axis."
     ]
    }
   ],
   "source": [
    "R, iR = 0.2, 1\n",
    "# LO + LL\n",
    "#dsigma_dpT_dy_LO_LL = sigma_fold_JF(pT,  MakeSpectra(pT, dsigma_dpT_dy_q_lo), R, iR, 'q', 'LO')\\\n",
    "#                    + sigma_fold_JF(pT,  MakeSpectra(pT, dsigma_dpT_dy_g_lo), R, iR, 'g', 'LO')\n",
    "# LO + LL + NLL\n",
    "#dsigma_dpT_dy_NLO_LL = dsigma_dpT_dy_LO_LL\\\n",
    "#                     + sigma_fold_JF(pT,  MakeSpectra(pT, dsigma_dpT_dy_q_lo), R, iR, 'q', 'NLO')\\\n",
    "#                     + sigma_fold_JF(pT,  MakeSpectra(pT, dsigma_dpT_dy_g_lo), R, iR, 'g', 'NLO')\\\n",
    "#                     + sigma_fold_JF(pT,  MakeSpectra(pT, dsigma_dpT_dy_q_nlo), R, iR, 'q', 'LO')\\\n",
    "#                     + sigma_fold_JF(pT,  MakeSpectra(pT, dsigma_dpT_dy_g_nlo), R, iR, 'g', 'LO')\n",
    "\n",
    "\n",
    "\n",
    "fig = plt.figure(figsize=(4,4))\n",
    "gs = gridspec.GridSpec(5, 1)\n",
    "ax1 = fig.add_subplot(gs[:3])\n",
    "ax2 = fig.add_subplot(gs[3:])\n",
    "\n",
    "# dsigma/dpT/dy\n",
    "ax1.plot(pT, dsigma_dpT_dy_LO, 'r', label='LO')\n",
    "ax1.plot(pT, dsigma_dpT_dy_LO_LL, 'g', label='LO+LL')\n",
    "ax1.plot(pT, dsigma_dpT_dy_NLO_LL, 'b', label=\"NLO+LL\")\n",
    "plot_exp(ax1)\n",
    "\n",
    "ax1.semilogy()\n",
    "ax1.set_ylim(1e-15,1e-4)\n",
    "ax1.set_xlim(80,2000)\n",
    "ax1.semilogx()\n",
    "ax1.set_xticks([])\n",
    "ax1.legend(loc='lower left', framealpha=0.)\n",
    "ax1.set_ylabel(r\"$d\\sigma/d\\eta/dp_T$ [mb/GeV]\")\n",
    "ax1.annotate(r\"$\\sqrt{s}=7$ TeV, $R=0.4$, ATLAS\", xy=(.2,.9), xycoords='axes fraction')\n",
    "\n",
    "# Exp/Theory\n",
    "plot_exp(ax2, color='r', scale=MakeSpectra(pT, dsigma_dpT_dy_LO) )\n",
    "plot_exp(ax2, color='g', scale=MakeSpectra(pT, dsigma_dpT_dy_LO_LL) )\n",
    "plot_exp(ax2, color='b', scale=MakeSpectra(pT, dsigma_dpT_dy_NLO_LL) )\n",
    "\n",
    "ax2.set_ylim(0,1.9)\n",
    "ax2.plot([80,1500],[1,1], 'k-')\n",
    "ax2.set_xlim(80,2000)\n",
    "ax2.semilogx()\n",
    "ax2.set_xlabel(r\"$p_T^{\\rm jet}$ [GeV]\")\n",
    "ax2.set_ylabel(r\"Data/Theory\")\n",
    "\n",
    "\n",
    "\n",
    "plt.tight_layout(True)\n",
    "plt.subplots_adjust(hspace=0)\n",
    "plt.savefig(\"ATLAS-jet-R0d4.png\", dpi=300)\n"
   ]
  },
  {
   "cell_type": "markdown",
   "id": "fa0e7d87",
   "metadata": {},
   "source": [
    "# ALICE 5.02 TeV, R=0.1, 0.2, 0.3, 0.4"
   ]
  },
  {
   "cell_type": "code",
   "execution_count": 19,
   "id": "02b858ec",
   "metadata": {},
   "outputs": [],
   "source": [
    "R, iR = 0.4, 3\n",
    "# quark spectra, LO and NLO correction\n",
    "pT, dsigma_dpT_dy_g_lo = np.loadtxt(\"/home/weiyaoke/Research/NLO_initial_parton_spectra/qqbar/pp2g-LO-CT14nlo.dat\").T\n",
    "pT, dsigma_dpT_dy_g_nlo = np.loadtxt(\"/home/weiyaoke/Research/NLO_initial_parton_spectra/qqbar/pp2g-NLO-CT14nlo.dat\").T\n",
    "dsigma_dpT_dy_g_nlo -= dsigma_dpT_dy_g_lo\n",
    "\n",
    "# qluon spectra, LO and NLO correction\n",
    "pT, dsigma_dpT_dy_q_lo = np.loadtxt(\"/home/weiyaoke/Research/NLO_initial_parton_spectra/qqbar/pp2qqbar-LO-CT14nlo.dat\").T\n",
    "pT, dsigma_dpT_dy_q_nlo = np.loadtxt(\"/home/weiyaoke/Research/NLO_initial_parton_spectra/qqbar/pp2qqbar-NLO-CT14nlo.dat\").T\n",
    "dsigma_dpT_dy_q_nlo -= dsigma_dpT_dy_q_lo\n",
    "\n",
    "# LO jet cross section, parton level\n",
    "dsigma_dpT_dy_LO = dsigma_dpT_dy_q_lo + dsigma_dpT_dy_g_lo\n",
    "\n",
    "pp2q2J_00 = 1.*dsigma_dpT_dy_q_lo\n",
    "pp2q2J_01 = sigma_fold_JF(pT,  MakeSpectra(pT, dsigma_dpT_dy_q_lo), R, iR, 'q', 'NLO')\n",
    "pp2q2J_10 = sigma_fold_JF(pT,  MakeSpectra(pT, dsigma_dpT_dy_q_nlo), R, iR, 'q', 'LO')\n",
    "pp2g2J_00 = 1.*dsigma_dpT_dy_g_lo \n",
    "pp2g2J_01 = sigma_fold_JF(pT,  MakeSpectra(pT, dsigma_dpT_dy_g_lo), R, iR, 'g', 'NLO')\n",
    "pp2g2J_10 = sigma_fold_JF(pT,  MakeSpectra(pT, dsigma_dpT_dy_g_nlo), R, iR, 'g', 'LO')\n",
    "\n",
    "with open(\"pp2q2J-5020GeV-R0d4.dat\",'w') as file:\n",
    "    for (ipT, a,b,c,d,e,f) in zip(pT, pp2q2J_00, pp2q2J_01, pp2q2J_10, \n",
    "                                 pp2g2J_00, pp2g2J_01, pp2g2J_10):\n",
    "        file.write(\"{:1.3f}\\t{:1.3e}\\t{:1.3e}\\t{:1.3e}\\t{:1.3e}\\t{:1.3e}\\t{:1.3e}\\n\".format(ipT, a,b,c,d,e,f))\n",
    "\n",
    "from scipy.optimize import curve_fit\n",
    "def template(x,a,b):\n",
    "    return a*x+b\n",
    "\n",
    "# Load data\n",
    "def plot_exp(R, ax, color='k', scale=lambda x: 0):\n",
    "    pT, pTl, pTh, y, stat, _, sys1, _, sys2, _, _, _\\\n",
    "        = np.loadtxt(\"./Data/ALICE-pp5.02-R{:1.1f}.dat\".format(R)).T\n",
    "    y0 = np.array([np.exp(scale(np.log(np.linspace(L,H,10)))).mean() \n",
    "                         for L, H in zip(pTl, pTh)])\n",
    "    sys = np.sqrt(sys1**2+sys2**2)\n",
    "    y /= y0\n",
    "    stat /= y0\n",
    "    sys /= y0\n",
    "    ax.errorbar(pT, y, xerr=(pTh-pTl)/2., yerr=stat, fmt='.', color=color)\n",
    "    \n",
    "\n",
    "    \n",
    "    for il, ih, yl, yh in zip(pTl, pTh, y-sys, y+sys):\n",
    "        ax.fill_between([il,ih], [yl,yl], [yh,yh], facecolor='none', edgecolor=color)"
   ]
  },
  {
   "cell_type": "code",
   "execution_count": null,
   "id": "7592efef",
   "metadata": {},
   "outputs": [],
   "source": []
  },
  {
   "cell_type": "code",
   "execution_count": 20,
   "id": "27c2e81e",
   "metadata": {},
   "outputs": [
    {
     "name": "stderr",
     "output_type": "stream",
     "text": [
      "/tmp/ipykernel_899064/447247126.py:44: MatplotlibDeprecationWarning: Passing the pad parameter of tight_layout() positionally is deprecated since Matplotlib 3.3; the parameter will become keyword-only two minor releases later.\n",
      "  plt.tight_layout(True)\n"
     ]
    },
    {
     "data": {
      "image/png": "[encoded data removed]",
      "text/plain": [
       "<Figure size 288x288 with 2 Axes>"
      ]
     },
     "metadata": {
      "needs_background": "light"
     },
     "output_type": "display_data"
    }
   ],
   "source": [
    "\n",
    "R, iR = 0.1, 0\n",
    "\n",
    "# LO + LL\n",
    "dsigma_dpT_dy_LO_LL = sigma_fold_JF(pT,  MakeSpectra(pT, dsigma_dpT_dy_q_lo), R, iR, 'q', 'LO')\\\n",
    "                    + sigma_fold_JF(pT,  MakeSpectra(pT, dsigma_dpT_dy_g_lo), R, iR, 'g', 'LO')\n",
    "# LO + LL + NLL\n",
    "dsigma_dpT_dy_NLO_LL = dsigma_dpT_dy_LO_LL\\\n",
    "                     + sigma_fold_JF(pT,  MakeSpectra(pT, dsigma_dpT_dy_q_lo), R, iR, 'q', 'NLO')\\\n",
    "                     + sigma_fold_JF(pT,  MakeSpectra(pT, dsigma_dpT_dy_g_lo), R, iR, 'g', 'NLO')\\\n",
    "                     + sigma_fold_JF(pT,  MakeSpectra(pT, dsigma_dpT_dy_q_nlo), R, iR, 'q', 'LO')\\\n",
    "                     + sigma_fold_JF(pT,  MakeSpectra(pT, dsigma_dpT_dy_g_nlo), R, iR, 'g', 'LO')\n",
    "\n",
    "fig = plt.figure(figsize=(4,4))\n",
    "gs = gridspec.GridSpec(5, 1)\n",
    "ax1 = fig.add_subplot(gs[:3])\n",
    "ax2 = fig.add_subplot(gs[3:])\n",
    "\n",
    "# dsigma/dpT/dy\n",
    "ax1.plot(pT, dsigma_dpT_dy_LO, 'r', label='LO')\n",
    "ax1.plot(pT, dsigma_dpT_dy_LO_LL, 'g', label='LO+LL')\n",
    "ax1.plot(pT, dsigma_dpT_dy_NLO_LL, 'b', label=\"NLO+LL\")\n",
    "plot_exp(R, ax1)\n",
    "\n",
    "ax1.semilogy()\n",
    "ax1.set_ylim(1e-7,1e-2)\n",
    "ax1.set_xlim(10,150)\n",
    "ax1.set_xticks([])\n",
    "ax1.legend(loc='lower left', framealpha=0.)\n",
    "ax1.set_ylabel(r\"$d\\sigma/d\\eta/dp_T$ [mb/GeV]\")\n",
    "ax1.annotate(r\"$\\sqrt{{s}}=5.02$ TeV, $R={}$, ALICE\".format(R), xy=(.2,.9), xycoords='axes fraction')\n",
    "\n",
    "\n",
    "# Exp/Theory\n",
    "plot_exp(R, ax2, color='r', scale=MakeSpectra(pT, dsigma_dpT_dy_LO) )\n",
    "plot_exp(R, ax2, color='g', scale=MakeSpectra(pT, dsigma_dpT_dy_LO_LL) )\n",
    "plot_exp(R, ax2, color='b', scale=MakeSpectra(pT, dsigma_dpT_dy_NLO_LL) )\n",
    "\n",
    "ax2.set_ylim(0,1.9)\n",
    "ax2.plot([0,150],[1,1], 'k-')\n",
    "ax2.set_xlim(10,150)\n",
    "ax2.set_xlabel(r\"$p_T^{\\rm jet}$ [GeV]\")\n",
    "ax2.set_ylabel(r\"Data/Theory\")\n",
    "\n",
    "plt.tight_layout(True)\n",
    "plt.subplots_adjust(hspace=0)\n",
    "plt.savefig(\"ALICE-jet-R0d1.png\", dpi=300)\n"
   ]
  },
  {
   "cell_type": "code",
   "execution_count": 21,
   "id": "98d12775",
   "metadata": {},
   "outputs": [
    {
     "name": "stderr",
     "output_type": "stream",
     "text": [
      "/tmp/ipykernel_899064/1872065535.py:46: MatplotlibDeprecationWarning: Passing the pad parameter of tight_layout() positionally is deprecated since Matplotlib 3.3; the parameter will become keyword-only two minor releases later.\n",
      "  plt.tight_layout(True)\n"
     ]
    },
    {
     "data": {
      "image/png": "[encoded data removed]",
      "text/plain": [
       "<Figure size 288x288 with 2 Axes>"
      ]
     },
     "metadata": {
      "needs_background": "light"
     },
     "output_type": "display_data"
    }
   ],
   "source": [
    "\n",
    "R, iR = 0.2, 1\n",
    "\n",
    "# LO + LL\n",
    "dsigma_dpT_dy_LO_LL = sigma_fold_JF(pT,  MakeSpectra(pT, dsigma_dpT_dy_q_lo), R, iR, 'q', 'LO')\\\n",
    "                    + sigma_fold_JF(pT,  MakeSpectra(pT, dsigma_dpT_dy_g_lo), R, iR, 'g', 'LO')\n",
    "# LO + LL + NLL\n",
    "dsigma_dpT_dy_NLO_LL = dsigma_dpT_dy_LO_LL\\\n",
    "                     + sigma_fold_JF(pT,  MakeSpectra(pT, dsigma_dpT_dy_q_lo), R, iR, 'q', 'NLO')\\\n",
    "                     + sigma_fold_JF(pT,  MakeSpectra(pT, dsigma_dpT_dy_g_lo), R, iR, 'g', 'NLO')\\\n",
    "                     + sigma_fold_JF(pT,  MakeSpectra(pT, dsigma_dpT_dy_q_nlo), R, iR, 'q', 'LO')\\\n",
    "                     + sigma_fold_JF(pT,  MakeSpectra(pT, dsigma_dpT_dy_g_nlo), R, iR, 'g', 'LO')\n",
    "\n",
    "fig = plt.figure(figsize=(4,4))\n",
    "gs = gridspec.GridSpec(5, 1)\n",
    "ax1 = fig.add_subplot(gs[:3])\n",
    "ax2 = fig.add_subplot(gs[3:])\n",
    "\n",
    "# dsigma/dpT/dy\n",
    "ax1.plot(pT, dsigma_dpT_dy_LO, 'r', label='LO')\n",
    "ax1.plot(pT, dsigma_dpT_dy_LO_LL, 'g', label='LO+LL')\n",
    "ax1.plot(pT, dsigma_dpT_dy_NLO_LL, 'b', label=\"NLO+LL\")\n",
    "plot_exp(R, ax1)\n",
    "\n",
    "ax1.semilogy()\n",
    "ax1.set_ylim(1e-7,1e-2)\n",
    "ax1.set_xlim(10,150)\n",
    "ax1.set_xticks([])\n",
    "ax1.legend(loc='lower left', framealpha=0.)\n",
    "ax1.set_ylabel(r\"$d\\sigma/d\\eta/dp_T$ [mb/GeV]\")\n",
    "ax1.annotate(r\"$\\sqrt{{s}}=5.02$ TeV, $R={}$, ALICE\".format(R), xy=(.2,.9), xycoords='axes fraction')\n",
    "\n",
    "\n",
    "# Exp/Theory\n",
    "plot_exp(R, ax2, color='r', scale=MakeSpectra(pT, dsigma_dpT_dy_LO) )\n",
    "plot_exp(R, ax2, color='g', scale=MakeSpectra(pT, dsigma_dpT_dy_LO_LL) )\n",
    "plot_exp(R, ax2, color='b', scale=MakeSpectra(pT, dsigma_dpT_dy_NLO_LL) )\n",
    "\n",
    "ax2.set_ylim(0,1.9)\n",
    "ax2.plot([0,150],[1,1], 'k-')\n",
    "ax2.set_xlim(10,150)\n",
    "ax2.set_xlabel(r\"$p_T^{\\rm jet}$ [GeV]\")\n",
    "ax2.set_ylabel(r\"Data/Theory\")\n",
    "\n",
    "\n",
    "\n",
    "plt.tight_layout(True)\n",
    "plt.subplots_adjust(hspace=0)\n",
    "plt.savefig(\"ALICE-jet-R0d2.png\", dpi=300)\n"
   ]
  },
  {
   "cell_type": "code",
   "execution_count": 22,
   "id": "550459df",
   "metadata": {},
   "outputs": [
    {
     "name": "stderr",
     "output_type": "stream",
     "text": [
      "/tmp/ipykernel_899064/1173430698.py:46: MatplotlibDeprecationWarning: Passing the pad parameter of tight_layout() positionally is deprecated since Matplotlib 3.3; the parameter will become keyword-only two minor releases later.\n",
      "  plt.tight_layout(True)\n"
     ]
    },
    {
     "data": {
      "image/png": "[encoded data removed]",
      "text/plain": [
       "<Figure size 288x288 with 2 Axes>"
      ]
     },
     "metadata": {
      "needs_background": "light"
     },
     "output_type": "display_data"
    }
   ],
   "source": [
    "\n",
    "R, iR = 0.3, 2\n",
    "\n",
    "# LO + LL\n",
    "dsigma_dpT_dy_LO_LL = sigma_fold_JF(pT,  MakeSpectra(pT, dsigma_dpT_dy_q_lo), R, iR, 'q', 'LO')\\\n",
    "                    + sigma_fold_JF(pT,  MakeSpectra(pT, dsigma_dpT_dy_g_lo), R, iR, 'g', 'LO')\n",
    "# LO + LL + NLL\n",
    "dsigma_dpT_dy_NLO_LL = dsigma_dpT_dy_LO_LL\\\n",
    "                     + sigma_fold_JF(pT,  MakeSpectra(pT, dsigma_dpT_dy_q_lo), R, iR, 'q', 'NLO')\\\n",
    "                     + sigma_fold_JF(pT,  MakeSpectra(pT, dsigma_dpT_dy_g_lo), R, iR, 'g', 'NLO')\\\n",
    "                     + sigma_fold_JF(pT,  MakeSpectra(pT, dsigma_dpT_dy_q_nlo), R, iR, 'q', 'LO')\\\n",
    "                     + sigma_fold_JF(pT,  MakeSpectra(pT, dsigma_dpT_dy_g_nlo), R, iR, 'g', 'LO')\n",
    "\n",
    "fig = plt.figure(figsize=(4,4))\n",
    "gs = gridspec.GridSpec(5, 1)\n",
    "ax1 = fig.add_subplot(gs[:3])\n",
    "ax2 = fig.add_subplot(gs[3:])\n",
    "\n",
    "# dsigma/dpT/dy\n",
    "ax1.plot(pT, dsigma_dpT_dy_LO, 'r', label='LO')\n",
    "ax1.plot(pT, dsigma_dpT_dy_LO_LL, 'g', label='LO+LL')\n",
    "ax1.plot(pT, dsigma_dpT_dy_NLO_LL, 'b', label=\"NLO+LL\")\n",
    "plot_exp(R, ax1)\n",
    "\n",
    "ax1.semilogy()\n",
    "ax1.set_ylim(1e-7,1e-2)\n",
    "ax1.set_xlim(10,150)\n",
    "ax1.set_xticks([])\n",
    "ax1.legend(loc='lower left', framealpha=0.)\n",
    "ax1.set_ylabel(r\"$d\\sigma/d\\eta/dp_T$ [mb/GeV]\")\n",
    "ax1.annotate(r\"$\\sqrt{{s}}=5.02$ TeV, $R={}$, ALICE\".format(R), xy=(.2,.9), xycoords='axes fraction')\n",
    "\n",
    "\n",
    "# Exp/Theory\n",
    "plot_exp(R, ax2, color='r', scale=MakeSpectra(pT, dsigma_dpT_dy_LO) )\n",
    "plot_exp(R, ax2, color='g', scale=MakeSpectra(pT, dsigma_dpT_dy_LO_LL) )\n",
    "plot_exp(R, ax2, color='b', scale=MakeSpectra(pT, dsigma_dpT_dy_NLO_LL) )\n",
    "\n",
    "ax2.set_ylim(0,1.9)\n",
    "ax2.plot([0,150],[1,1], 'k-')\n",
    "ax2.set_xlim(10,150)\n",
    "ax2.set_xlabel(r\"$p_T^{\\rm jet}$ [GeV]\")\n",
    "ax2.set_ylabel(r\"Data/Theory\")\n",
    "\n",
    "\n",
    "\n",
    "plt.tight_layout(True)\n",
    "plt.subplots_adjust(hspace=0)\n",
    "plt.savefig(\"ALICE-jet-R0d3.png\", dpi=300)\n"
   ]
  },
  {
   "cell_type": "code",
   "execution_count": 23,
   "id": "2fa27405",
   "metadata": {},
   "outputs": [
    {
     "name": "stderr",
     "output_type": "stream",
     "text": [
      "/tmp/ipykernel_899064/2493928794.py:46: MatplotlibDeprecationWarning: Passing the pad parameter of tight_layout() positionally is deprecated since Matplotlib 3.3; the parameter will become keyword-only two minor releases later.\n",
      "  plt.tight_layout(True)\n"
     ]
    },
    {
     "data": {
      "image/png": "[encoded data removed]",
      "text/plain": [
       "<Figure size 288x288 with 2 Axes>"
      ]
     },
     "metadata": {
      "needs_background": "light"
     },
     "output_type": "display_data"
    }
   ],
   "source": [
    "\n",
    "R, iR = 0.4, 3\n",
    "\n",
    "# LO + LL\n",
    "dsigma_dpT_dy_LO_LL = sigma_fold_JF(pT,  MakeSpectra(pT, dsigma_dpT_dy_q_lo), R, iR, 'q', 'LO')\\\n",
    "                    + sigma_fold_JF(pT,  MakeSpectra(pT, dsigma_dpT_dy_g_lo), R, iR, 'g', 'LO')\n",
    "# LO + LL + NLL\n",
    "dsigma_dpT_dy_NLO_LL = dsigma_dpT_dy_LO_LL\\\n",
    "                     + sigma_fold_JF(pT,  MakeSpectra(pT, dsigma_dpT_dy_q_lo), R, iR, 'q', 'NLO')\\\n",
    "                     + sigma_fold_JF(pT,  MakeSpectra(pT, dsigma_dpT_dy_g_lo), R, iR, 'g', 'NLO')\\\n",
    "                     + sigma_fold_JF(pT,  MakeSpectra(pT, dsigma_dpT_dy_q_nlo), R, iR, 'q', 'LO')\\\n",
    "                     + sigma_fold_JF(pT,  MakeSpectra(pT, dsigma_dpT_dy_g_nlo), R, iR, 'g', 'LO')\n",
    "\n",
    "fig = plt.figure(figsize=(4,4))\n",
    "gs = gridspec.GridSpec(5, 1)\n",
    "ax1 = fig.add_subplot(gs[:3])\n",
    "ax2 = fig.add_subplot(gs[3:])\n",
    "\n",
    "# dsigma/dpT/dy\n",
    "ax1.plot(pT, dsigma_dpT_dy_LO, 'r', label='LO')\n",
    "ax1.plot(pT, dsigma_dpT_dy_LO_LL, 'g', label='LO+LL')\n",
    "ax1.plot(pT, dsigma_dpT_dy_NLO_LL, 'b', label=\"NLO+LL\")\n",
    "plot_exp(R, ax1)\n",
    "\n",
    "ax1.semilogy()\n",
    "ax1.set_ylim(1e-7,1e-2)\n",
    "ax1.set_xlim(10,150)\n",
    "ax1.set_xticks([])\n",
    "ax1.legend(loc='lower left', framealpha=0.)\n",
    "ax1.set_ylabel(r\"$d\\sigma/d\\eta/dp_T$ [mb/GeV]\")\n",
    "ax1.annotate(r\"$\\sqrt{{s}}=5.02$ TeV, $R={}$, ALICE\".format(R), xy=(.2,.9), xycoords='axes fraction')\n",
    "\n",
    "\n",
    "# Exp/Theory\n",
    "plot_exp(R, ax2, color='r', scale=MakeSpectra(pT, dsigma_dpT_dy_LO) )\n",
    "plot_exp(R, ax2, color='g', scale=MakeSpectra(pT, dsigma_dpT_dy_LO_LL) )\n",
    "plot_exp(R, ax2, color='b', scale=MakeSpectra(pT, dsigma_dpT_dy_NLO_LL) )\n",
    "\n",
    "ax2.set_ylim(0,1.9)\n",
    "ax2.plot([0,150],[1,1], 'k-')\n",
    "ax2.set_xlim(10,150)\n",
    "ax2.set_xlabel(r\"$p_T^{\\rm jet}$ [GeV]\")\n",
    "ax2.set_ylabel(r\"Data/Theory\")\n",
    "\n",
    "\n",
    "\n",
    "plt.tight_layout(True)\n",
    "plt.subplots_adjust(hspace=0)\n",
    "plt.savefig(\"ALICE-jet-R0d4.png\", dpi=300)\n"
   ]
  },
  {
   "cell_type": "markdown",
   "id": "c2ffb14c",
   "metadata": {},
   "source": [
    "# CMS 2.76 TeV, R=0.2, 0.3,  0.4"
   ]
  },
  {
   "cell_type": "code",
   "execution_count": 24,
   "id": "4cce7b51",
   "metadata": {},
   "outputs": [],
   "source": [
    "# 1609.05383\n",
    "\n",
    "# quark spectra, LO and NLO correction\n",
    "pT, dsigma_dpT_dy_g_lo = np.loadtxt(\"/home/weiyaoke/Research/NLO_initial_parton_spectra/qqbar/pp2g-2760GeV-LO-CT14nlo.dat\").T\n",
    "pT, dsigma_dpT_dy_g_nlo = np.loadtxt(\"/home/weiyaoke/Research/NLO_initial_parton_spectra/qqbar/pp2g-2760GeV-NLO-CT14nlo.dat\").T\n",
    "dsigma_dpT_dy_g_nlo -= dsigma_dpT_dy_g_lo\n",
    "\n",
    "# qluon spectra, LO and NLO correction\n",
    "pT, dsigma_dpT_dy_q_lo = np.loadtxt(\"/home/weiyaoke/Research/NLO_initial_parton_spectra/qqbar/pp2qqbar-2760GeV-LO-CT14nlo.dat\").T\n",
    "pT, dsigma_dpT_dy_q_nlo = np.loadtxt(\"/home/weiyaoke/Research/NLO_initial_parton_spectra/qqbar/pp2qqbar-2760GeV-NLO-CT14nlo.dat\").T\n",
    "dsigma_dpT_dy_q_nlo -= dsigma_dpT_dy_q_lo\n",
    "\n",
    "Ymax = 2\n",
    "dsigma_dpT_dy_q_lo /= 2*Ymax\n",
    "dsigma_dpT_dy_g_lo /= 2*Ymax\n",
    "dsigma_dpT_dy_q_nlo /= 2*Ymax\n",
    "dsigma_dpT_dy_g_nlo /= 2*Ymax\n",
    "\n",
    "# LO jet cross section, parton level\n",
    "dsigma_dpT_dy_LO = dsigma_dpT_dy_q_lo + dsigma_dpT_dy_g_lo\n",
    "\n",
    "# Load data\n",
    "def plot_exp(R, ax, color='k', scale=lambda x: 0):\n",
    "    pT, pTl, pTh, y, stat, _, sys, _ = np.loadtxt(\"./Data/CMS-pp2.76-R{}.dat\".format(R)).T\n",
    "    # pb -> mb\n",
    "    y /= 10**6 \n",
    "    sys /= 10**6\n",
    "    \n",
    "    y0 = np.array([np.exp(scale(np.log(np.linspace(L,H,10)))).mean() \n",
    "                         for L, H in zip(pTl, pTh)])\n",
    "    y /= y0\n",
    "    stat /= y0\n",
    "    sys /= y0\n",
    "    ax.errorbar(pT, y, xerr=(pTh-pTl)/2., yerr=stat, fmt='.', color=color)\n",
    "    \n",
    "    for il, ih, yl, yh in zip(pTl, pTh, y-sys, y+sys):\n",
    "        ax.fill_between([il,ih], [yl,yl], [yh,yh], facecolor='none', edgecolor=color)"
   ]
  },
  {
   "cell_type": "code",
   "execution_count": 25,
   "id": "39365b35",
   "metadata": {},
   "outputs": [
    {
     "name": "stderr",
     "output_type": "stream",
     "text": [
      "/tmp/ipykernel_899064/4166334325.py:47: MatplotlibDeprecationWarning: Passing the pad parameter of tight_layout() positionally is deprecated since Matplotlib 3.3; the parameter will become keyword-only two minor releases later.\n",
      "  plt.tight_layout(True)\n"
     ]
    },
    {
     "data": {
      "image/png": "[encoded data removed]",
      "text/plain": [
       "<Figure size 288x288 with 2 Axes>"
      ]
     },
     "metadata": {
      "needs_background": "light"
     },
     "output_type": "display_data"
    }
   ],
   "source": [
    "R, iR = 0.2, 1\n",
    "\n",
    "# LO + LL\n",
    "dsigma_dpT_dy_LO_LL = sigma_fold_JF(pT,  MakeSpectra(pT, dsigma_dpT_dy_q_lo), R, iR, 'q', 'LO')\\\n",
    "                    + sigma_fold_JF(pT,  MakeSpectra(pT, dsigma_dpT_dy_g_lo), R, iR, 'g', 'LO')\n",
    "# LO + LL + NLL\n",
    "dsigma_dpT_dy_NLO_LL = dsigma_dpT_dy_LO_LL\\\n",
    "                     + sigma_fold_JF(pT,  MakeSpectra(pT, dsigma_dpT_dy_q_lo), R, iR, 'q', 'NLO')\\\n",
    "                     + sigma_fold_JF(pT,  MakeSpectra(pT, dsigma_dpT_dy_g_lo), R, iR, 'g', 'NLO')\\\n",
    "                     + sigma_fold_JF(pT,  MakeSpectra(pT, dsigma_dpT_dy_q_nlo), R, iR, 'q', 'LO')\\\n",
    "                     + sigma_fold_JF(pT,  MakeSpectra(pT, dsigma_dpT_dy_g_nlo), R, iR, 'g', 'LO')\n",
    "\n",
    "fig = plt.figure(figsize=(4,4))\n",
    "gs = gridspec.GridSpec(5, 1)\n",
    "ax1 = fig.add_subplot(gs[:3])\n",
    "ax2 = fig.add_subplot(gs[3:])\n",
    "\n",
    "# dsigma/dpT/dy\n",
    "ax1.plot(pT, dsigma_dpT_dy_LO, 'r', label='LO')\n",
    "ax1.plot(pT, dsigma_dpT_dy_LO_LL, 'g', label='LO+LL')\n",
    "ax1.plot(pT, dsigma_dpT_dy_NLO_LL, 'b', label=\"NLO+LL\")\n",
    "plot_exp(R, ax1)\n",
    "\n",
    "ax1.semilogy()\n",
    "ax1.set_ylim(1e-11,5e-5)\n",
    "\n",
    "ax1.set_xlim(50,350)\n",
    "ax1.set_xticks([])\n",
    "ax1.legend(loc='lower left', framealpha=0.)\n",
    "ax1.set_ylabel(r\"$d\\sigma/d\\eta/dp_T$ [mb/GeV]\")\n",
    "ax1.annotate(r\"$\\sqrt{{s}}=2.76$ TeV, $R={}$, CMS\".format(R), xy=(.2,.9), xycoords='axes fraction')\n",
    "\n",
    "\n",
    "# Exp/Theory\n",
    "plot_exp(R, ax2, color='r', scale=MakeSpectra(pT, dsigma_dpT_dy_LO) )\n",
    "plot_exp(R, ax2, color='g', scale=MakeSpectra(pT, dsigma_dpT_dy_LO_LL) )\n",
    "plot_exp(R, ax2, color='b', scale=MakeSpectra(pT, dsigma_dpT_dy_NLO_LL) )\n",
    "\n",
    "ax2.set_ylim(0,1.9)\n",
    "ax2.plot([50,350],[1,1], 'k-')\n",
    "ax2.set_xlim(50,350)\n",
    "ax2.set_xlabel(r\"$p_T^{\\rm jet}$ [GeV]\")\n",
    "ax2.set_ylabel(r\"Data/Theory\")\n",
    "\n",
    "\n",
    "\n",
    "plt.tight_layout(True)\n",
    "plt.subplots_adjust(hspace=0)\n",
    "plt.savefig(\"CMS-jet-R0d2.png\", dpi=300)\n"
   ]
  },
  {
   "cell_type": "code",
   "execution_count": 26,
   "id": "591932b8",
   "metadata": {},
   "outputs": [
    {
     "name": "stderr",
     "output_type": "stream",
     "text": [
      "/tmp/ipykernel_899064/3023041715.py:47: MatplotlibDeprecationWarning: Passing the pad parameter of tight_layout() positionally is deprecated since Matplotlib 3.3; the parameter will become keyword-only two minor releases later.\n",
      "  plt.tight_layout(True)\n"
     ]
    },
    {
     "data": {
      "image/png": "[encoded data removed]",
      "text/plain": [
       "<Figure size 288x288 with 2 Axes>"
      ]
     },
     "metadata": {
      "needs_background": "light"
     },
     "output_type": "display_data"
    }
   ],
   "source": [
    "R, iR = 0.3, 2\n",
    "\n",
    "# LO + LL\n",
    "dsigma_dpT_dy_LO_LL = sigma_fold_JF(pT,  MakeSpectra(pT, dsigma_dpT_dy_q_lo), R, iR, 'q', 'LO')\\\n",
    "                    + sigma_fold_JF(pT,  MakeSpectra(pT, dsigma_dpT_dy_g_lo), R, iR, 'g', 'LO')\n",
    "# LO + LL + NLL\n",
    "dsigma_dpT_dy_NLO_LL = dsigma_dpT_dy_LO_LL\\\n",
    "                     + sigma_fold_JF(pT,  MakeSpectra(pT, dsigma_dpT_dy_q_lo), R, iR, 'q', 'NLO')\\\n",
    "                     + sigma_fold_JF(pT,  MakeSpectra(pT, dsigma_dpT_dy_g_lo), R, iR, 'g', 'NLO')\\\n",
    "                     + sigma_fold_JF(pT,  MakeSpectra(pT, dsigma_dpT_dy_q_nlo), R, iR, 'q', 'LO')\\\n",
    "                     + sigma_fold_JF(pT,  MakeSpectra(pT, dsigma_dpT_dy_g_nlo), R, iR, 'g', 'LO')\n",
    "\n",
    "fig = plt.figure(figsize=(4,4))\n",
    "gs = gridspec.GridSpec(5, 1)\n",
    "ax1 = fig.add_subplot(gs[:3])\n",
    "ax2 = fig.add_subplot(gs[3:])\n",
    "\n",
    "# dsigma/dpT/dy\n",
    "ax1.plot(pT, dsigma_dpT_dy_LO, 'r', label='LO')\n",
    "ax1.plot(pT, dsigma_dpT_dy_LO_LL, 'g', label='LO+LL')\n",
    "ax1.plot(pT, dsigma_dpT_dy_NLO_LL, 'b', label=\"NLO+LL\")\n",
    "plot_exp(R, ax1)\n",
    "\n",
    "ax1.semilogy()\n",
    "ax1.set_ylim(1e-11,5e-5)\n",
    "\n",
    "ax1.set_xlim(50,350)\n",
    "ax1.set_xticks([])\n",
    "ax1.legend(loc='lower left', framealpha=0.)\n",
    "ax1.set_ylabel(r\"$d\\sigma/d\\eta/dp_T$ [mb/GeV]\")\n",
    "ax1.annotate(r\"$\\sqrt{{s}}=2.76$ TeV, $R={}$, CMS\".format(R), xy=(.2,.9), xycoords='axes fraction')\n",
    "\n",
    "\n",
    "# Exp/Theory\n",
    "plot_exp(R, ax2, color='r', scale=MakeSpectra(pT, dsigma_dpT_dy_LO) )\n",
    "plot_exp(R, ax2, color='g', scale=MakeSpectra(pT, dsigma_dpT_dy_LO_LL) )\n",
    "plot_exp(R, ax2, color='b', scale=MakeSpectra(pT, dsigma_dpT_dy_NLO_LL) )\n",
    "\n",
    "ax2.set_ylim(0,1.9)\n",
    "ax2.plot([50,350],[1,1], 'k-')\n",
    "ax2.set_xlim(50,350)\n",
    "ax2.set_xlabel(r\"$p_T^{\\rm jet}$ [GeV]\")\n",
    "ax2.set_ylabel(r\"Data/Theory\")\n",
    "\n",
    "\n",
    "\n",
    "plt.tight_layout(True)\n",
    "plt.subplots_adjust(hspace=0)\n",
    "plt.savefig(\"CMS-jet-R0d3.png\", dpi=300)\n"
   ]
  },
  {
   "cell_type": "code",
   "execution_count": 27,
   "id": "0e5fd967",
   "metadata": {},
   "outputs": [
    {
     "name": "stderr",
     "output_type": "stream",
     "text": [
      "/tmp/ipykernel_899064/1798901772.py:47: MatplotlibDeprecationWarning: Passing the pad parameter of tight_layout() positionally is deprecated since Matplotlib 3.3; the parameter will become keyword-only two minor releases later.\n",
      "  plt.tight_layout(True)\n"
     ]
    },
    {
     "data": {
      "image/png": "[encoded data removed]",
      "text/plain": [
       "<Figure size 288x288 with 2 Axes>"
      ]
     },
     "metadata": {
      "needs_background": "light"
     },
     "output_type": "display_data"
    }
   ],
   "source": [
    "R, iR = 0.4, 3\n",
    "\n",
    "# LO + LL\n",
    "dsigma_dpT_dy_LO_LL = sigma_fold_JF(pT,  MakeSpectra(pT, dsigma_dpT_dy_q_lo), R, iR, 'q', 'LO')\\\n",
    "                    + sigma_fold_JF(pT,  MakeSpectra(pT, dsigma_dpT_dy_g_lo), R, iR, 'g', 'LO')\n",
    "# LO + LL + NLL\n",
    "dsigma_dpT_dy_NLO_LL = dsigma_dpT_dy_LO_LL\\\n",
    "                     + sigma_fold_JF(pT,  MakeSpectra(pT, dsigma_dpT_dy_q_lo), R, iR, 'q', 'NLO')\\\n",
    "                     + sigma_fold_JF(pT,  MakeSpectra(pT, dsigma_dpT_dy_g_lo), R, iR, 'g', 'NLO')\\\n",
    "                     + sigma_fold_JF(pT,  MakeSpectra(pT, dsigma_dpT_dy_q_nlo), R, iR, 'q', 'LO')\\\n",
    "                     + sigma_fold_JF(pT,  MakeSpectra(pT, dsigma_dpT_dy_g_nlo), R, iR, 'g', 'LO')\n",
    "\n",
    "fig = plt.figure(figsize=(4,4))\n",
    "gs = gridspec.GridSpec(5, 1)\n",
    "ax1 = fig.add_subplot(gs[:3])\n",
    "ax2 = fig.add_subplot(gs[3:])\n",
    "\n",
    "# dsigma/dpT/dy\n",
    "ax1.plot(pT, dsigma_dpT_dy_LO, 'r', label='LO')\n",
    "ax1.plot(pT, dsigma_dpT_dy_LO_LL, 'g', label='LO+LL')\n",
    "ax1.plot(pT, dsigma_dpT_dy_NLO_LL, 'b', label=\"NLO+LL\")\n",
    "plot_exp(R, ax1)\n",
    "\n",
    "ax1.semilogy()\n",
    "ax1.set_ylim(1e-11,5e-5)\n",
    "\n",
    "ax1.set_xlim(50,350)\n",
    "ax1.set_xticks([])\n",
    "ax1.legend(loc='lower left', framealpha=0.)\n",
    "ax1.set_ylabel(r\"$d\\sigma/d\\eta/dp_T$ [mb/GeV]\")\n",
    "ax1.annotate(r\"$\\sqrt{{s}}=2.76$ TeV, $R={}$, CMS\".format(R), xy=(.2,.9), xycoords='axes fraction')\n",
    "\n",
    "\n",
    "# Exp/Theory\n",
    "plot_exp(R, ax2, color='r', scale=MakeSpectra(pT, dsigma_dpT_dy_LO) )\n",
    "plot_exp(R, ax2, color='g', scale=MakeSpectra(pT, dsigma_dpT_dy_LO_LL) )\n",
    "plot_exp(R, ax2, color='b', scale=MakeSpectra(pT, dsigma_dpT_dy_NLO_LL) )\n",
    "\n",
    "ax2.set_ylim(0,1.9)\n",
    "ax2.plot([50,350],[1,1], 'k-')\n",
    "ax2.set_xlim(50,350)\n",
    "ax2.set_xlabel(r\"$p_T^{\\rm jet}$ [GeV]\")\n",
    "ax2.set_ylabel(r\"Data/Theory\")\n",
    "\n",
    "\n",
    "\n",
    "plt.tight_layout(True)\n",
    "plt.subplots_adjust(hspace=0)\n",
    "plt.savefig(\"CMS-jet-R0d4.png\", dpi=300)\n"
   ]
  },
  {
   "cell_type": "code",
   "execution_count": null,
   "id": "2bd8e8a5",
   "metadata": {},
   "outputs": [],
   "source": []
  },
  {
   "cell_type": "code",
   "execution_count": null,
   "id": "278eb6f1",
   "metadata": {},
   "outputs": [],
   "source": []
  },
  {
   "cell_type": "code",
   "execution_count": null,
   "id": "743abce4",
   "metadata": {},
   "outputs": [],
   "source": []
  }
 ],
 "metadata": {
  "kernelspec": {
   "display_name": "Python 3 (ipykernel)",
   "language": "python",
   "name": "python3"
  },
  "language_info": {
   "codemirror_mode": {
    "name": "ipython",
    "version": 3
   },
   "file_extension": ".py",
   "mimetype": "text/x-python",
   "name": "python",
   "nbconvert_exporter": "python",
   "pygments_lexer": "ipython3",
   "version": "3.9.5"
  }
 },
 "nbformat": 4,
 "nbformat_minor": 5
}
